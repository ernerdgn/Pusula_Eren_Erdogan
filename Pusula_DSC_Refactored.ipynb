{
  "nbformat": 4,
  "nbformat_minor": 0,
  "metadata": {
    "colab": {
      "provenance": [],
      "include_colab_link": true
    },
    "kernelspec": {
      "name": "python3",
      "display_name": "Python 3"
    },
    "language_info": {
      "name": "python"
    }
  },
  "cells": [
    {
      "cell_type": "markdown",
      "metadata": {
        "id": "view-in-github",
        "colab_type": "text"
      },
      "source": [
        "<a href=\"https://colab.research.google.com/github/ernerdgn/Pusula_Eren_Erdogan/blob/main/Pusula_DSC_Refactored.ipynb\" target=\"_parent\"><img src=\"https://colab.research.google.com/assets/colab-badge.svg\" alt=\"Open In Colab\"/></a>"
      ]
    },
    {
      "cell_type": "code",
      "source": [
        "# get data set\n",
        "#https://github.com/ernerdgn/Pusula_Eren_Erdogan/raw/refs/heads/main/Talent_Academy_Case_DT_2025.xlsx\n",
        "\n",
        "github_raw_url = 'https://github.com/ernerdgn/Pusula_Eren_Erdogan/raw/refs/heads/main/Talent_Academy_Case_DT_2025.xlsx'\n",
        "\n",
        "!wget -O 'Talent_Academy_Case_DT_2025.xlsx' {github_raw_url}"
      ],
      "metadata": {
        "colab": {
          "base_uri": "https://localhost:8080/"
        },
        "id": "m40y9M0hEZHt",
        "outputId": "aa85872b-16ee-42a8-f10b-f80984c20d4b"
      },
      "execution_count": null,
      "outputs": [
        {
          "output_type": "stream",
          "name": "stdout",
          "text": [
            "--2025-09-05 13:31:43--  https://github.com/ernerdgn/Pusula_Eren_Erdogan/raw/refs/heads/main/Talent_Academy_Case_DT_2025.xlsx\n",
            "Resolving github.com (github.com)... 140.82.116.3\n",
            "Connecting to github.com (github.com)|140.82.116.3|:443... connected.\n",
            "HTTP request sent, awaiting response... 302 Found\n",
            "Location: https://raw.githubusercontent.com/ernerdgn/Pusula_Eren_Erdogan/refs/heads/main/Talent_Academy_Case_DT_2025.xlsx [following]\n",
            "--2025-09-05 13:31:44--  https://raw.githubusercontent.com/ernerdgn/Pusula_Eren_Erdogan/refs/heads/main/Talent_Academy_Case_DT_2025.xlsx\n",
            "Resolving raw.githubusercontent.com (raw.githubusercontent.com)... 185.199.108.133, 185.199.109.133, 185.199.110.133, ...\n",
            "Connecting to raw.githubusercontent.com (raw.githubusercontent.com)|185.199.108.133|:443... connected.\n",
            "HTTP request sent, awaiting response... 200 OK\n",
            "Length: 132900 (130K) [application/octet-stream]\n",
            "Saving to: ‘Talent_Academy_Case_DT_2025.xlsx’\n",
            "\n",
            "Talent_Academy_Case 100%[===================>] 129.79K  --.-KB/s    in 0.02s   \n",
            "\n",
            "2025-09-05 13:31:44 (8.43 MB/s) - ‘Talent_Academy_Case_DT_2025.xlsx’ saved [132900/132900]\n",
            "\n"
          ]
        }
      ]
    },
    {
      "cell_type": "code",
      "execution_count": null,
      "metadata": {
        "id": "0_RAmfjUmwrf"
      },
      "outputs": [],
      "source": [
        "import pandas as pd\n",
        "import numpy as np\n",
        "from sklearn.preprocessing import StandardScaler, LabelEncoder"
      ]
    },
    {
      "cell_type": "code",
      "source": [
        "# load data, initial cleaning, duplicate handling\n",
        "def load_and_clean_initial(file_path):\n",
        "  df = pd.read_excel(file_path)\n",
        "  print(f\"original shape: {df.shape}\")\n",
        "\n",
        "  df.drop_duplicates(inplace=True)\n",
        "  print(f\"shape after dropping duplicates: {df.shape}\")\n",
        "\n",
        "  df['TedaviSuresi_sayisal'] = pd.to_numeric(df['TedaviSuresi'].str.extract('(\\\\d+)', expand=False))\n",
        "  df['UygulamaSuresi_sayisal'] = pd.to_numeric(df['UygulamaSuresi'].str.extract('(\\\\d+)', expand=False))\n",
        "\n",
        "  for col in ['KronikHastalik', 'Alerji', 'Tanilar', 'TedaviAdi', 'UygulamaYerleri']:\n",
        "      df[f'{col}_cleaned'] = df[col].str.lower().str.replace('i̇', 'i')\n",
        "\n",
        "  df['KronikHastalik_cleaned'] = df['KronikHastalik_cleaned'].str.replace('hiportiroidizm', 'hipotirodizm')\n",
        "  df['Alerji_cleaned'] = df['Alerji_cleaned'].str.replace('volteren', 'voltaren')\n",
        "  df['TedaviAdi_cleaned'] = df['TedaviAdi_cleaned'].str.replace(',', '').str.strip()\n",
        "\n",
        "  print(\"initial cleaning complete!\\n\")\n",
        "  return df"
      ],
      "metadata": {
        "id": "CDXEhguNm6gI"
      },
      "execution_count": null,
      "outputs": []
    },
    {
      "cell_type": "code",
      "source": [
        "# preprocessing, missing values handler\n",
        "def handle_missing_values(df):\n",
        "  df['Alerji_cleaned'].fillna('yok', inplace=True)\n",
        "  df['KronikHastalik_cleaned'].fillna('yok', inplace=True)\n",
        "  df['Tanilar_cleaned'].fillna(df['Tanilar_cleaned'].mode()[0], inplace=True)\n",
        "  df['UygulamaYerleri_cleaned'].fillna(df['UygulamaYerleri_cleaned'].mode()[0], inplace=True)\n",
        "  df['Cinsiyet'].fillna(df['Cinsiyet'].mode()[0], inplace=True)\n",
        "  df['Bolum'].fillna(df['Bolum'].mode()[0], inplace=True)\n",
        "  df['KanGrubu'].fillna('bilinmiyor', inplace=True)\n",
        "  print(\"no more missing values!\\n\")\n",
        "  return df"
      ],
      "metadata": {
        "id": "FPPVwpyXm9vb"
      },
      "execution_count": null,
      "outputs": []
    },
    {
      "cell_type": "code",
      "source": [
        "# outlier capping\n",
        "def handle_outliers(df):\n",
        "  numerical_features = ['Yas', 'UygulamaSuresi_sayisal']\n",
        "  for col in numerical_features:\n",
        "    Q1, Q3 = df[col].quantile(0.25), df[col].quantile(0.75)\n",
        "    IQR = Q3 - Q1\n",
        "    upper_bound = Q3 + 1.5 * IQR\n",
        "    df[col] = df[col].clip(upper=upper_bound)\n",
        "  print(\"CAP CAP!\\n\")\n",
        "  return df"
      ],
      "metadata": {
        "id": "O9QwpI11nC9Y"
      },
      "execution_count": null,
      "outputs": []
    },
    {
      "cell_type": "code",
      "source": [
        "# feature engineering, creating new features for the columns\n",
        "def engineer_features(df):\n",
        "  # count features\n",
        "  df['Num_Uygulama_Yerleri'] = df['UygulamaYerleri_cleaned'].apply(lambda x: len(x.split(',')))\n",
        "  df['Num_Kronik_Hastalik'] = df['KronikHastalik_cleaned'].apply(lambda x: 0 if x == 'yok' else len(x.split(',')))\n",
        "  df['Num_Alerji'] = df['Alerji_cleaned'].apply(lambda x: 0 if x == 'yok' else len(x.split(',')))\n",
        "  df['Num_Tanilar'] = df['Tanilar_cleaned'].apply(lambda x: 0 if x in ['yok', ''] else len(x.split(',')))\n",
        "\n",
        "  # \"has_\" columns\n",
        "  all_diagnoses_counts = df['Tanilar_cleaned'].dropna().str.split(',').explode().str.strip().value_counts()\n",
        "  unwanted_items = ['', 'şimdiki']\n",
        "  filtered_diagnoses_counts = all_diagnoses_counts.drop(labels=unwanted_items, errors='ignore')\n",
        "  top_15_diagnoses = filtered_diagnoses_counts.nlargest(15)\n",
        "\n",
        "  for diagnosis in top_15_diagnoses.index:\n",
        "    col_name = \"has_\" + diagnosis.replace(' ', '_').replace('[', '').replace(']', '').replace('.', '')\n",
        "    df[col_name] = df['Tanilar_cleaned'].apply(lambda x: 1 if diagnosis in x else 0)\n",
        "\n",
        "  # age groups\n",
        "  df['Yas_Group'] = pd.cut(df['Yas'], bins=[0, 18, 36, 56, 100], labels=['Adolescent', 'Young Adult', 'Adult', 'Senior'], right=False)\n",
        "\n",
        "  # target val classes for classification\n",
        "  def create_target_class(sessions):\n",
        "    if sessions == 15.0: return '15_Seans'\n",
        "    elif sessions == 10.0: return '10_Seans'\n",
        "    elif sessions == 30.0: return '30_Seans'\n",
        "    else: return 'Other'\n",
        "  df['TedaviSuresi_Class'] = df['TedaviSuresi_sayisal'].apply(create_target_class)\n",
        "\n",
        "  print(\"feature engineering done!\\n\")\n",
        "  return df"
      ],
      "metadata": {
        "id": "e1kJV0eenFb3"
      },
      "execution_count": null,
      "outputs": []
    },
    {
      "cell_type": "code",
      "source": [
        "# transformation and sclaing, OHE, target encoding and num scaling\n",
        "def encode_and_scale(df):\n",
        "\n",
        "  # LabelEncoder for target variable\n",
        "  le = LabelEncoder()\n",
        "  df['TedaviSuresi_Encoded'] = le.fit_transform(df['TedaviSuresi_Class'])\n",
        "\n",
        "  # OHE for tedaviAdi\n",
        "  top_tedavi = df['TedaviAdi_cleaned'].value_counts().nlargest(15).index\n",
        "  df['TedaviAdi_Top15'] = df['TedaviAdi_cleaned'].apply(lambda x: x if x in top_tedavi else 'Other')\n",
        "  df = pd.get_dummies(df, columns=['TedaviAdi_Top15'], prefix='TedaviAdi')\n",
        "\n",
        "  # OHE for categoricals\n",
        "  categorical_cols = ['Cinsiyet', 'KanGrubu', 'Uyruk', 'Bolum', 'Yas_Group']\n",
        "  df = pd.get_dummies(df, columns=categorical_cols, drop_first=True)\n",
        "\n",
        "  # dropping all unnec. columns\n",
        "  cols_to_drop = [\n",
        "    'Yas', 'TedaviSuresi', 'UygulamaSuresi', 'KronikHastalik', 'Alerji',\n",
        "    'Tanilar', 'TedaviAdi', 'UygulamaYerleri', 'KronikHastalik_cleaned',\n",
        "    'Alerji_cleaned', 'Tanilar_cleaned', 'TedaviAdi_cleaned', 'UygulamaYerleri_cleaned',\n",
        "    'TedaviSuresi_sayisal', # target leakage\n",
        "    'TedaviSuresi_Class'    # encoded\n",
        "  ]\n",
        "  df.drop(columns=cols_to_drop, inplace=True)\n",
        "\n",
        "  # scaling\n",
        "  scaler = StandardScaler()\n",
        "  cols_to_scale = [\n",
        "    'UygulamaSuresi_sayisal', 'Num_Uygulama_Yerleri', 'Num_Kronik_Hastalik',\n",
        "    'Num_Alerji', 'Num_Tanilar'\n",
        "  ]\n",
        "  df[cols_to_scale] = scaler.fit_transform(df[cols_to_scale])\n",
        "\n",
        "  print(\"encoding and scaling done!\\n\")\n",
        "  return df"
      ],
      "metadata": {
        "id": "FurmVTDlnHiZ"
      },
      "execution_count": null,
      "outputs": []
    },
    {
      "cell_type": "code",
      "source": [
        "# main()\n",
        "if __name__ == '__main__':\n",
        "  FILE_PATH = \"Talent_Academy_Case_DT_2025.xlsx\"\n",
        "\n",
        "  df_processed = load_and_clean_initial(FILE_PATH)\n",
        "  df_processed = handle_missing_values(df_processed)\n",
        "  df_processed = handle_outliers(df_processed)\n",
        "  df_processed = engineer_features(df_processed)\n",
        "  df_final = encode_and_scale(df_processed)\n",
        "\n",
        "  print(\"=== model_ready_data ===\")\n",
        "  print(df_final.info())\n",
        "\n",
        "  # export\n",
        "  df_final.to_excel(\"model_ready_data_REFACTORED.xlsx\", index=False)"
      ],
      "metadata": {
        "colab": {
          "base_uri": "https://localhost:8080/"
        },
        "id": "ietYXEHknJ7f",
        "outputId": "12d081eb-e055-45b2-897b-decb77bd85c3"
      },
      "execution_count": null,
      "outputs": [
        {
          "output_type": "stream",
          "name": "stdout",
          "text": [
            "original shape: (2235, 13)\n",
            "shape after dropping duplicates: (1307, 13)\n",
            "initial cleaning complete!\n",
            "\n",
            "no more missing values!\n",
            "\n",
            "CAP CAP!\n",
            "\n",
            "feature engineering done!\n",
            "\n",
            "encoding and scaling done!\n",
            "\n",
            "=== model_ready_data ===\n",
            "<class 'pandas.core.frame.DataFrame'>\n",
            "Index: 1307 entries, 0 to 2234\n",
            "Data columns (total 63 columns):\n",
            " #   Column                                     Non-Null Count  Dtype  \n",
            "---  ------                                     --------------  -----  \n",
            " 0   HastaNo                                    1307 non-null   int64  \n",
            " 1   UygulamaSuresi_sayisal                     1307 non-null   float64\n",
            " 2   Num_Uygulama_Yerleri                       1307 non-null   float64\n",
            " 3   Num_Kronik_Hastalik                        1307 non-null   float64\n",
            " 4   Num_Alerji                                 1307 non-null   float64\n",
            " 5   Num_Tanilar                                1307 non-null   float64\n",
            " 6   has_dorsalji                               1307 non-null   int64  \n",
            " 7   has_diğer                                  1307 non-null   int64  \n",
            " 8   has_tanımlanmamış                          1307 non-null   int64  \n",
            " 9   has_omuzun_darbe_sendromu                  1307 non-null   int64  \n",
            " 10  has_intervertebral_disk_bozuklukları       1307 non-null   int64  \n",
            " 11  has_lumbosakral_bölge                      1307 non-null   int64  \n",
            " 12  has_servikotorasik_bölge                   1307 non-null   int64  \n",
            " 13  has_servikal_bölge                         1307 non-null   int64  \n",
            " 14  has_eklem_ağrısı                           1307 non-null   int64  \n",
            " 15  has_birden_fazla_yer                       1307 non-null   int64  \n",
            " 16  has_menisküs_yırtığı                       1307 non-null   int64  \n",
            " 17  has_ekstremite_ağrısı                      1307 non-null   int64  \n",
            " 18  has_fibromiyalji                           1307 non-null   int64  \n",
            " 19  has_gonartroz_diz_ekleminin_artrozu        1307 non-null   int64  \n",
            " 20  has_lateral_epikondilit                    1307 non-null   int64  \n",
            " 21  TedaviSuresi_Encoded                       1307 non-null   int64  \n",
            " 22  TedaviAdi_Other                            1307 non-null   bool   \n",
            " 23  TedaviAdi_alt ekstremite atrofi-bilateral  1307 non-null   bool   \n",
            " 24  TedaviAdi_boyun-trapezz                    1307 non-null   bool   \n",
            " 25  TedaviAdi_diz op-erken rehabilitasyon      1307 non-null   bool   \n",
            " 26  TedaviAdi_dorsalji -boyun+trapez           1307 non-null   bool   \n",
            " 27  TedaviAdi_dorsalji 1                       1307 non-null   bool   \n",
            " 28  TedaviAdi_dorsalji boyun 1                 1307 non-null   bool   \n",
            " 29  TedaviAdi_dorsalji-bel                     1307 non-null   bool   \n",
            " 30  TedaviAdi_dorsalji-dorsal                  1307 non-null   bool   \n",
            " 31  TedaviAdi_gonartroz-meniskopati            1307 non-null   bool   \n",
            " 32  TedaviAdi_impingement sağ                  1307 non-null   bool   \n",
            " 33  TedaviAdi_iv disk bozukluğu-bel            1307 non-null   bool   \n",
            " 34  TedaviAdi_menisküs tamiri                  1307 non-null   bool   \n",
            " 35  TedaviAdi_sağ omuz impingement             1307 non-null   bool   \n",
            " 36  TedaviAdi_skolyoz                          1307 non-null   bool   \n",
            " 37  TedaviAdi_sol omuz impingement             1307 non-null   bool   \n",
            " 38  Cinsiyet_Kadın                             1307 non-null   bool   \n",
            " 39  KanGrubu_0 Rh-                             1307 non-null   bool   \n",
            " 40  KanGrubu_A Rh+                             1307 non-null   bool   \n",
            " 41  KanGrubu_A Rh-                             1307 non-null   bool   \n",
            " 42  KanGrubu_AB Rh+                            1307 non-null   bool   \n",
            " 43  KanGrubu_AB Rh-                            1307 non-null   bool   \n",
            " 44  KanGrubu_B Rh+                             1307 non-null   bool   \n",
            " 45  KanGrubu_B Rh-                             1307 non-null   bool   \n",
            " 46  KanGrubu_bilinmiyor                        1307 non-null   bool   \n",
            " 47  Uyruk_Azerbaycan                           1307 non-null   bool   \n",
            " 48  Uyruk_Libya                                1307 non-null   bool   \n",
            " 49  Uyruk_Tokelau                              1307 non-null   bool   \n",
            " 50  Uyruk_Türkiye                              1307 non-null   bool   \n",
            " 51  Bolum_Genel Cerrahi                        1307 non-null   bool   \n",
            " 52  Bolum_Göğüs Hastalıkları                   1307 non-null   bool   \n",
            " 53  Bolum_Kalp Ve Damar Cerrahisi              1307 non-null   bool   \n",
            " 54  Bolum_Kardiyoloji                          1307 non-null   bool   \n",
            " 55  Bolum_Laboratuar                           1307 non-null   bool   \n",
            " 56  Bolum_Nöroloji                             1307 non-null   bool   \n",
            " 57  Bolum_Ortopedi Ve Travmatoloji             1307 non-null   bool   \n",
            " 58  Bolum_Tıbbi Onkoloji                       1307 non-null   bool   \n",
            " 59  Bolum_İç Hastalıkları                      1307 non-null   bool   \n",
            " 60  Yas_Group_Young Adult                      1307 non-null   bool   \n",
            " 61  Yas_Group_Adult                            1307 non-null   bool   \n",
            " 62  Yas_Group_Senior                           1307 non-null   bool   \n",
            "dtypes: bool(41), float64(5), int64(17)\n",
            "memory usage: 287.2 KB\n",
            "None\n"
          ]
        },
        {
          "output_type": "stream",
          "name": "stderr",
          "text": [
            "/tmp/ipython-input-448428369.py:3: FutureWarning: A value is trying to be set on a copy of a DataFrame or Series through chained assignment using an inplace method.\n",
            "The behavior will change in pandas 3.0. This inplace method will never work because the intermediate object on which we are setting values always behaves as a copy.\n",
            "\n",
            "For example, when doing 'df[col].method(value, inplace=True)', try using 'df.method({col: value}, inplace=True)' or df[col] = df[col].method(value) instead, to perform the operation inplace on the original object.\n",
            "\n",
            "\n",
            "  df['Alerji_cleaned'].fillna('yok', inplace=True)\n",
            "/tmp/ipython-input-448428369.py:4: FutureWarning: A value is trying to be set on a copy of a DataFrame or Series through chained assignment using an inplace method.\n",
            "The behavior will change in pandas 3.0. This inplace method will never work because the intermediate object on which we are setting values always behaves as a copy.\n",
            "\n",
            "For example, when doing 'df[col].method(value, inplace=True)', try using 'df.method({col: value}, inplace=True)' or df[col] = df[col].method(value) instead, to perform the operation inplace on the original object.\n",
            "\n",
            "\n",
            "  df['KronikHastalik_cleaned'].fillna('yok', inplace=True)\n",
            "/tmp/ipython-input-448428369.py:5: FutureWarning: A value is trying to be set on a copy of a DataFrame or Series through chained assignment using an inplace method.\n",
            "The behavior will change in pandas 3.0. This inplace method will never work because the intermediate object on which we are setting values always behaves as a copy.\n",
            "\n",
            "For example, when doing 'df[col].method(value, inplace=True)', try using 'df.method({col: value}, inplace=True)' or df[col] = df[col].method(value) instead, to perform the operation inplace on the original object.\n",
            "\n",
            "\n",
            "  df['Tanilar_cleaned'].fillna(df['Tanilar_cleaned'].mode()[0], inplace=True)\n",
            "/tmp/ipython-input-448428369.py:6: FutureWarning: A value is trying to be set on a copy of a DataFrame or Series through chained assignment using an inplace method.\n",
            "The behavior will change in pandas 3.0. This inplace method will never work because the intermediate object on which we are setting values always behaves as a copy.\n",
            "\n",
            "For example, when doing 'df[col].method(value, inplace=True)', try using 'df.method({col: value}, inplace=True)' or df[col] = df[col].method(value) instead, to perform the operation inplace on the original object.\n",
            "\n",
            "\n",
            "  df['UygulamaYerleri_cleaned'].fillna(df['UygulamaYerleri_cleaned'].mode()[0], inplace=True)\n",
            "/tmp/ipython-input-448428369.py:7: FutureWarning: A value is trying to be set on a copy of a DataFrame or Series through chained assignment using an inplace method.\n",
            "The behavior will change in pandas 3.0. This inplace method will never work because the intermediate object on which we are setting values always behaves as a copy.\n",
            "\n",
            "For example, when doing 'df[col].method(value, inplace=True)', try using 'df.method({col: value}, inplace=True)' or df[col] = df[col].method(value) instead, to perform the operation inplace on the original object.\n",
            "\n",
            "\n",
            "  df['Cinsiyet'].fillna(df['Cinsiyet'].mode()[0], inplace=True)\n",
            "/tmp/ipython-input-448428369.py:8: FutureWarning: A value is trying to be set on a copy of a DataFrame or Series through chained assignment using an inplace method.\n",
            "The behavior will change in pandas 3.0. This inplace method will never work because the intermediate object on which we are setting values always behaves as a copy.\n",
            "\n",
            "For example, when doing 'df[col].method(value, inplace=True)', try using 'df.method({col: value}, inplace=True)' or df[col] = df[col].method(value) instead, to perform the operation inplace on the original object.\n",
            "\n",
            "\n",
            "  df['Bolum'].fillna(df['Bolum'].mode()[0], inplace=True)\n",
            "/tmp/ipython-input-448428369.py:9: FutureWarning: A value is trying to be set on a copy of a DataFrame or Series through chained assignment using an inplace method.\n",
            "The behavior will change in pandas 3.0. This inplace method will never work because the intermediate object on which we are setting values always behaves as a copy.\n",
            "\n",
            "For example, when doing 'df[col].method(value, inplace=True)', try using 'df.method({col: value}, inplace=True)' or df[col] = df[col].method(value) instead, to perform the operation inplace on the original object.\n",
            "\n",
            "\n",
            "  df['KanGrubu'].fillna('bilinmiyor', inplace=True)\n"
          ]
        }
      ]
    },
    {
      "cell_type": "markdown",
      "source": [
        "===================================================================="
      ],
      "metadata": {
        "id": "MUhuuEEUoEpa"
      }
    }
  ]
}